{
 "cells": [
  {
   "cell_type": "code",
   "execution_count": 2,
   "metadata": {},
   "outputs": [],
   "source": [
    "# Econ 277: Data Day 1\n",
    "# Author: Jonah Tuckman\n",
    "# Date: February 4, 2019\n",
    "# Location: ~/Desktop/Economics/Economics-Data-Exploration/DataDay1\n",
    "# Purpose: Going through process of building python code\n",
    "####################################################################\n"
   ]
  },
  {
   "cell_type": "code",
   "execution_count": 5,
   "metadata": {},
   "outputs": [],
   "source": [
    "import pandas as pd ## Pandas is a great package for dealing with datasets\n",
    "import numpy as np ## numpy great for array and vector work\n",
    "import matplotlib.pyplot as plt ## will be used for plotting (clearly)\n",
    "import os ## misscelaneous operating system interface\n",
    "import matplotlib\n",
    "#matplotlib.use('GTKAgg')\n",
    "from sklearn import datasets, linear_model"
   ]
  },
  {
   "cell_type": "code",
   "execution_count": 6,
   "metadata": {},
   "outputs": [],
   "source": [
    "os.chdir('/Users/JonahTuckman/Desktop/Economics/Economics-Data-Exploration/DataDay1')\n",
    "## This line sets the working directory to the local path on my machine"
   ]
  },
  {
   "cell_type": "code",
   "execution_count": 7,
   "metadata": {},
   "outputs": [],
   "source": [
    "# Questions for you to check your understand: \n",
    "# What is the difference between a working directory and these other directories? \n",
    "### A working dirrectory is where your script is locally run thus paths will be\n",
    "### according to this file\n",
    "\n",
    "# What is the ~ doing? \n",
    "### ~ makes is a global command and links any file to find this\n",
    "\n",
    "# What is the <- doing?\n",
    "### Pointer assignment in R."
   ]
  },
  {
   "cell_type": "code",
   "execution_count": 8,
   "metadata": {},
   "outputs": [],
   "source": [
    "dataset = pd.read_csv('RawData/DataSet1_AgricFarmVal.csv') # reading datafile and \n",
    "                                                        # attatching to variable dataset"
   ]
  },
  {
   "cell_type": "code",
   "execution_count": 9,
   "metadata": {},
   "outputs": [
    {
     "data": {
      "text/html": [
       "<div>\n",
       "<style scoped>\n",
       "    .dataframe tbody tr th:only-of-type {\n",
       "        vertical-align: middle;\n",
       "    }\n",
       "\n",
       "    .dataframe tbody tr th {\n",
       "        vertical-align: top;\n",
       "    }\n",
       "\n",
       "    .dataframe thead th {\n",
       "        text-align: right;\n",
       "    }\n",
       "</style>\n",
       "<table border=\"1\" class=\"dataframe\">\n",
       "  <thead>\n",
       "    <tr style=\"text-align: right;\">\n",
       "      <th></th>\n",
       "      <th>FIPS</th>\n",
       "      <th>NAME</th>\n",
       "      <th>YEAR</th>\n",
       "      <th>FAVAL</th>\n",
       "      <th>LEVEL</th>\n",
       "    </tr>\n",
       "  </thead>\n",
       "  <tbody>\n",
       "    <tr>\n",
       "      <th>0</th>\n",
       "      <td>9000</td>\n",
       "      <td>CONNECTICUT</td>\n",
       "      <td>1850</td>\n",
       "      <td>31.0</td>\n",
       "      <td>2</td>\n",
       "    </tr>\n",
       "    <tr>\n",
       "      <th>1</th>\n",
       "      <td>9000</td>\n",
       "      <td>CONNECTICUT</td>\n",
       "      <td>1860</td>\n",
       "      <td>36.0</td>\n",
       "      <td>2</td>\n",
       "    </tr>\n",
       "    <tr>\n",
       "      <th>2</th>\n",
       "      <td>9000</td>\n",
       "      <td>CONNECTICUT</td>\n",
       "      <td>1870</td>\n",
       "      <td>42.0</td>\n",
       "      <td>2</td>\n",
       "    </tr>\n",
       "    <tr>\n",
       "      <th>3</th>\n",
       "      <td>9000</td>\n",
       "      <td>CONNECTICUT</td>\n",
       "      <td>1880</td>\n",
       "      <td>49.0</td>\n",
       "      <td>2</td>\n",
       "    </tr>\n",
       "    <tr>\n",
       "      <th>4</th>\n",
       "      <td>9000</td>\n",
       "      <td>CONNECTICUT</td>\n",
       "      <td>1890</td>\n",
       "      <td>42.0</td>\n",
       "      <td>2</td>\n",
       "    </tr>\n",
       "  </tbody>\n",
       "</table>\n",
       "</div>"
      ],
      "text/plain": [
       "   FIPS         NAME  YEAR  FAVAL  LEVEL\n",
       "0  9000  CONNECTICUT  1850   31.0      2\n",
       "1  9000  CONNECTICUT  1860   36.0      2\n",
       "2  9000  CONNECTICUT  1870   42.0      2\n",
       "3  9000  CONNECTICUT  1880   49.0      2\n",
       "4  9000  CONNECTICUT  1890   42.0      2"
      ]
     },
     "execution_count": 9,
     "metadata": {},
     "output_type": "execute_result"
    }
   ],
   "source": [
    "dataset.head() # Shows the first five rows of the dataset"
   ]
  },
  {
   "cell_type": "code",
   "execution_count": 10,
   "metadata": {},
   "outputs": [
    {
     "name": "stdout",
     "output_type": "stream",
     "text": [
      "        FIPS         NAME  YEAR  FAVAL  LEVEL\n",
      "0       9000  CONNECTICUT  1850   31.0      2\n",
      "1       9000  CONNECTICUT  1860   36.0      2\n",
      "2       9000  CONNECTICUT  1870   42.0      2\n",
      "3       9000  CONNECTICUT  1880   49.0      2\n",
      "4       9000  CONNECTICUT  1890   42.0      2\n",
      "5       9000  CONNECTICUT  1900   42.0      2\n",
      "6       9000  CONNECTICUT  1910   63.0      2\n",
      "7       9000  CONNECTICUT  1920  100.0      2\n",
      "8       9000  CONNECTICUT  1925  110.0      2\n",
      "9       9000  CONNECTICUT  1930  151.0      2\n",
      "10      9000  CONNECTICUT  1935  136.0      2\n",
      "11      9000  CONNECTICUT  1940  135.0      2\n",
      "12      9000  CONNECTICUT  1945  165.0      2\n",
      "13      9000  CONNECTICUT  1950  248.0      2\n",
      "14      9000  CONNECTICUT  1954  289.0      2\n",
      "15      9000  CONNECTICUT  1959  430.0      2\n",
      "16      9001    FAIRFIELD  1850   49.0      1\n",
      "17      9001    FAIRFIELD  1860   53.0      1\n",
      "18      9001    FAIRFIELD  1870   91.0      1\n",
      "19      9001    FAIRFIELD  1880   85.0      1\n",
      "20      9001    FAIRFIELD  1890   83.0      1\n",
      "21      9001    FAIRFIELD  1900   82.0      1\n",
      "22      9001    FAIRFIELD  1910  148.0      1\n",
      "23      9001    FAIRFIELD  1920  226.0      1\n",
      "24      9001    FAIRFIELD  1925  232.0      1\n",
      "25      9001    FAIRFIELD  1930  473.0      1\n",
      "26      9001    FAIRFIELD  1935  396.0      1\n",
      "27      9001    FAIRFIELD  1940  448.0      1\n",
      "28      9001    FAIRFIELD  1945  576.0      1\n",
      "29      9001    FAIRFIELD  1950  720.0      1\n",
      "...      ...          ...   ...    ...    ...\n",
      "49906  53075      WHITMAN  1870    NaN      1\n",
      "49907  53075      WHITMAN  1880    NaN      1\n",
      "49908  53075      WHITMAN  1890    NaN      1\n",
      "49909  53075      WHITMAN  1900   14.0      1\n",
      "49910  53075      WHITMAN  1910   50.0      1\n",
      "49911  53075      WHITMAN  1920   98.0      1\n",
      "49912  53075      WHITMAN  1925   62.0      1\n",
      "49913  53075      WHITMAN  1930   62.0      1\n",
      "49914  53075      WHITMAN  1935   42.0      1\n",
      "49915  53075      WHITMAN  1940   50.0      1\n",
      "49916  53075      WHITMAN  1945   79.0      1\n",
      "49917  53075      WHITMAN  1950  135.0      1\n",
      "49918  53075      WHITMAN  1954  156.0      1\n",
      "49919  53075      WHITMAN  1959  194.0      1\n",
      "49920  53077       YAKIMA  1850    NaN      1\n",
      "49921  53077       YAKIMA  1860    NaN      1\n",
      "49922  53077       YAKIMA  1870    NaN      1\n",
      "49923  53077       YAKIMA  1880    NaN      1\n",
      "49924  53077       YAKIMA  1890    NaN      1\n",
      "49925  53077       YAKIMA  1900    9.0      1\n",
      "49926  53077       YAKIMA  1910  138.0      1\n",
      "49927  53077       YAKIMA  1920  166.0      1\n",
      "49928  53077       YAKIMA  1925  126.0      1\n",
      "49929  53077       YAKIMA  1930  134.0      1\n",
      "49930  53077       YAKIMA  1935   70.0      1\n",
      "49931  53077       YAKIMA  1940   51.0      1\n",
      "49932  53077       YAKIMA  1945   86.0      1\n",
      "49933  53077       YAKIMA  1950  113.0      1\n",
      "49934  53077       YAKIMA  1954  187.0      1\n",
      "49935  53077       YAKIMA  1959  313.0      1\n",
      "\n",
      "[49936 rows x 5 columns]\n"
     ]
    }
   ],
   "source": [
    "print(dataset)"
   ]
  },
  {
   "cell_type": "code",
   "execution_count": 11,
   "metadata": {},
   "outputs": [],
   "source": [
    "# what type of data is this? \n",
    "### This data is 4 columns of numerical data and one columns of categorical data\n",
    "\n",
    "# What is a unit of observation? \n",
    "### Name is the changing categorical column\n",
    "\n",
    "# Another way to ask that question is to ask, what is the data unique by?\n",
    "### Name?"
   ]
  },
  {
   "cell_type": "code",
   "execution_count": 12,
   "metadata": {},
   "outputs": [
    {
     "name": "stdout",
     "output_type": "stream",
     "text": [
      "<bound method DataFrame.count of         FIPS         NAME  YEAR  FAVAL  LEVEL\n",
      "0       9000  CONNECTICUT  1850   31.0      2\n",
      "1       9000  CONNECTICUT  1860   36.0      2\n",
      "2       9000  CONNECTICUT  1870   42.0      2\n",
      "3       9000  CONNECTICUT  1880   49.0      2\n",
      "4       9000  CONNECTICUT  1890   42.0      2\n",
      "5       9000  CONNECTICUT  1900   42.0      2\n",
      "6       9000  CONNECTICUT  1910   63.0      2\n",
      "7       9000  CONNECTICUT  1920  100.0      2\n",
      "8       9000  CONNECTICUT  1925  110.0      2\n",
      "9       9000  CONNECTICUT  1930  151.0      2\n",
      "10      9000  CONNECTICUT  1935  136.0      2\n",
      "11      9000  CONNECTICUT  1940  135.0      2\n",
      "12      9000  CONNECTICUT  1945  165.0      2\n",
      "13      9000  CONNECTICUT  1950  248.0      2\n",
      "14      9000  CONNECTICUT  1954  289.0      2\n",
      "15      9000  CONNECTICUT  1959  430.0      2\n",
      "16      9001    FAIRFIELD  1850   49.0      1\n",
      "17      9001    FAIRFIELD  1860   53.0      1\n",
      "18      9001    FAIRFIELD  1870   91.0      1\n",
      "19      9001    FAIRFIELD  1880   85.0      1\n",
      "20      9001    FAIRFIELD  1890   83.0      1\n",
      "21      9001    FAIRFIELD  1900   82.0      1\n",
      "22      9001    FAIRFIELD  1910  148.0      1\n",
      "23      9001    FAIRFIELD  1920  226.0      1\n",
      "24      9001    FAIRFIELD  1925  232.0      1\n",
      "25      9001    FAIRFIELD  1930  473.0      1\n",
      "26      9001    FAIRFIELD  1935  396.0      1\n",
      "27      9001    FAIRFIELD  1940  448.0      1\n",
      "28      9001    FAIRFIELD  1945  576.0      1\n",
      "29      9001    FAIRFIELD  1950  720.0      1\n",
      "...      ...          ...   ...    ...    ...\n",
      "49906  53075      WHITMAN  1870    NaN      1\n",
      "49907  53075      WHITMAN  1880    NaN      1\n",
      "49908  53075      WHITMAN  1890    NaN      1\n",
      "49909  53075      WHITMAN  1900   14.0      1\n",
      "49910  53075      WHITMAN  1910   50.0      1\n",
      "49911  53075      WHITMAN  1920   98.0      1\n",
      "49912  53075      WHITMAN  1925   62.0      1\n",
      "49913  53075      WHITMAN  1930   62.0      1\n",
      "49914  53075      WHITMAN  1935   42.0      1\n",
      "49915  53075      WHITMAN  1940   50.0      1\n",
      "49916  53075      WHITMAN  1945   79.0      1\n",
      "49917  53075      WHITMAN  1950  135.0      1\n",
      "49918  53075      WHITMAN  1954  156.0      1\n",
      "49919  53075      WHITMAN  1959  194.0      1\n",
      "49920  53077       YAKIMA  1850    NaN      1\n",
      "49921  53077       YAKIMA  1860    NaN      1\n",
      "49922  53077       YAKIMA  1870    NaN      1\n",
      "49923  53077       YAKIMA  1880    NaN      1\n",
      "49924  53077       YAKIMA  1890    NaN      1\n",
      "49925  53077       YAKIMA  1900    9.0      1\n",
      "49926  53077       YAKIMA  1910  138.0      1\n",
      "49927  53077       YAKIMA  1920  166.0      1\n",
      "49928  53077       YAKIMA  1925  126.0      1\n",
      "49929  53077       YAKIMA  1930  134.0      1\n",
      "49930  53077       YAKIMA  1935   70.0      1\n",
      "49931  53077       YAKIMA  1940   51.0      1\n",
      "49932  53077       YAKIMA  1945   86.0      1\n",
      "49933  53077       YAKIMA  1950  113.0      1\n",
      "49934  53077       YAKIMA  1954  187.0      1\n",
      "49935  53077       YAKIMA  1959  313.0      1\n",
      "\n",
      "[49936 rows x 5 columns]>\n"
     ]
    }
   ],
   "source": [
    "total_rows = dataset.count\n",
    "print(total_rows) # shows [49936 rows x 5 columns]"
   ]
  },
  {
   "cell_type": "code",
   "execution_count": 13,
   "metadata": {},
   "outputs": [
    {
     "name": "stdout",
     "output_type": "stream",
     "text": [
      "<bound method Series.count of 0         31.0\n",
      "1         36.0\n",
      "2         42.0\n",
      "3         49.0\n",
      "4         42.0\n",
      "5         42.0\n",
      "6         63.0\n",
      "7        100.0\n",
      "8        110.0\n",
      "9        151.0\n",
      "10       136.0\n",
      "11       135.0\n",
      "12       165.0\n",
      "13       248.0\n",
      "14       289.0\n",
      "15       430.0\n",
      "16        49.0\n",
      "17        53.0\n",
      "18        91.0\n",
      "19        85.0\n",
      "20        83.0\n",
      "21        82.0\n",
      "22       148.0\n",
      "23       226.0\n",
      "24       232.0\n",
      "25       473.0\n",
      "26       396.0\n",
      "27       448.0\n",
      "28       576.0\n",
      "29       720.0\n",
      "         ...  \n",
      "49906      NaN\n",
      "49907      NaN\n",
      "49908      NaN\n",
      "49909     14.0\n",
      "49910     50.0\n",
      "49911     98.0\n",
      "49912     62.0\n",
      "49913     62.0\n",
      "49914     42.0\n",
      "49915     50.0\n",
      "49916     79.0\n",
      "49917    135.0\n",
      "49918    156.0\n",
      "49919    194.0\n",
      "49920      NaN\n",
      "49921      NaN\n",
      "49922      NaN\n",
      "49923      NaN\n",
      "49924      NaN\n",
      "49925      9.0\n",
      "49926    138.0\n",
      "49927    166.0\n",
      "49928    126.0\n",
      "49929    134.0\n",
      "49930     70.0\n",
      "49931     51.0\n",
      "49932     86.0\n",
      "49933    113.0\n",
      "49934    187.0\n",
      "49935    313.0\n",
      "Name: FAVAL, Length: 49936, dtype: float64>\n"
     ]
    }
   ],
   "source": [
    "# total FAVAL rows\n",
    "total_faval = dataset['FAVAL'].count\n",
    "print(total_faval)"
   ]
  },
  {
   "cell_type": "code",
   "execution_count": 14,
   "metadata": {},
   "outputs": [
    {
     "data": {
      "text/plain": [
       "5582"
      ]
     },
     "execution_count": 14,
     "metadata": {},
     "output_type": "execute_result"
    }
   ],
   "source": [
    "# plt.plot(dataset['NAME'], label = 'Counties')\n",
    "np.nan_to_num(dataset)\n",
    "np.nan_to_num(dataset['FAVAL'])\n",
    "dataset.isnull().sum().sum()"
   ]
  },
  {
   "cell_type": "code",
   "execution_count": 15,
   "metadata": {},
   "outputs": [
    {
     "name": "stdout",
     "output_type": "stream",
     "text": [
      "        FIPS         NAME  YEAR  FAVAL  LEVEL\n",
      "176    23003    AROOSTOOK  1850    NaN      1\n",
      "256    23013         KNOX  1850    NaN      1\n",
      "336    23023    SAGADAHOC  1850    NaN      1\n",
      "1552   34039        UNION  1850    NaN      1\n",
      "1632   36005        BRONX  1850    NaN      1\n",
      "1633   36005        BRONX  1860    NaN      1\n",
      "1634   36005        BRONX  1870    NaN      1\n",
      "1635   36005        BRONX  1880    NaN      1\n",
      "1636   36005        BRONX  1890    NaN      1\n",
      "1637   36005        BRONX  1900    NaN      1\n",
      "1638   36005        BRONX  1910    NaN      1\n",
      "1645   36005        BRONX  1950    NaN      1\n",
      "1646   36005        BRONX  1954    NaN      1\n",
      "1647   36005        BRONX  1959    NaN      1\n",
      "2064   36059       NASSAU  1850    NaN      1\n",
      "2065   36059       NASSAU  1860    NaN      1\n",
      "2066   36059       NASSAU  1870    NaN      1\n",
      "2067   36059       NASSAU  1880    NaN      1\n",
      "2068   36059       NASSAU  1890    NaN      1\n",
      "2089   36061     NEW YORK  1930    NaN      1\n",
      "2090   36061     NEW YORK  1935    NaN      1\n",
      "2091   36061     NEW YORK  1940    NaN      1\n",
      "2092   36061     NEW YORK  1945    NaN      1\n",
      "2093   36061     NEW YORK  1950    NaN      1\n",
      "2094   36061     NEW YORK  1954    NaN      1\n",
      "2095   36061     NEW YORK  1959    NaN      1\n",
      "2368   36097     SCHUYLER  1850    NaN      1\n",
      "2784   42023      CAMERON  1850    NaN      1\n",
      "2785   42023      CAMERON  1860    NaN      1\n",
      "3024   42053       FOREST  1850    NaN      1\n",
      "...      ...          ...   ...    ...    ...\n",
      "49840  53067     THURSTON  1850    NaN      1\n",
      "49841  53067     THURSTON  1860    NaN      1\n",
      "49842  53067     THURSTON  1870    NaN      1\n",
      "49843  53067     THURSTON  1880    NaN      1\n",
      "49844  53067     THURSTON  1890    NaN      1\n",
      "49856  53069    WAHKIAKUM  1850    NaN      1\n",
      "49857  53069    WAHKIAKUM  1860    NaN      1\n",
      "49858  53069    WAHKIAKUM  1870    NaN      1\n",
      "49859  53069    WAHKIAKUM  1880    NaN      1\n",
      "49860  53069    WAHKIAKUM  1890    NaN      1\n",
      "49872  53071  WALLA WALLA  1850    NaN      1\n",
      "49873  53071  WALLA WALLA  1860    NaN      1\n",
      "49874  53071  WALLA WALLA  1870    NaN      1\n",
      "49875  53071  WALLA WALLA  1880    NaN      1\n",
      "49876  53071  WALLA WALLA  1890    NaN      1\n",
      "49888  53073      WHATCOM  1850    NaN      1\n",
      "49889  53073      WHATCOM  1860    NaN      1\n",
      "49890  53073      WHATCOM  1870    NaN      1\n",
      "49891  53073      WHATCOM  1880    NaN      1\n",
      "49892  53073      WHATCOM  1890    NaN      1\n",
      "49904  53075      WHITMAN  1850    NaN      1\n",
      "49905  53075      WHITMAN  1860    NaN      1\n",
      "49906  53075      WHITMAN  1870    NaN      1\n",
      "49907  53075      WHITMAN  1880    NaN      1\n",
      "49908  53075      WHITMAN  1890    NaN      1\n",
      "49920  53077       YAKIMA  1850    NaN      1\n",
      "49921  53077       YAKIMA  1860    NaN      1\n",
      "49922  53077       YAKIMA  1870    NaN      1\n",
      "49923  53077       YAKIMA  1880    NaN      1\n",
      "49924  53077       YAKIMA  1890    NaN      1\n",
      "\n",
      "[5582 rows x 5 columns]\n"
     ]
    }
   ],
   "source": [
    "nan_rows = dataset[dataset['FAVAL'].isnull()]\n",
    "print(nan_rows)"
   ]
  },
  {
   "cell_type": "code",
   "execution_count": 16,
   "metadata": {},
   "outputs": [],
   "source": [
    "county_data = dataset.query('LEVEL == 1')"
   ]
  },
  {
   "cell_type": "code",
   "execution_count": 17,
   "metadata": {},
   "outputs": [
    {
     "name": "stdout",
     "output_type": "stream",
     "text": [
      "39334.4\n"
     ]
    }
   ],
   "source": [
    "x = county_data['YEAR'].values # done with .values to keep it in type int rather than a series\n",
    "perc = len(x) * .8 # 80% of length is standard in training regression models\n",
    "print(perc)"
   ]
  },
  {
   "cell_type": "code",
   "execution_count": 18,
   "metadata": {},
   "outputs": [],
   "source": [
    "x = x.reshape(len(x), 1) # need to be a 1d array for regression prediction"
   ]
  },
  {
   "cell_type": "code",
   "execution_count": 19,
   "metadata": {},
   "outputs": [],
   "source": [
    "y = county_data['FAVAL'].values # done with .values to keep it in type float rather than a series\n",
    "y = y.reshape(len(y), 1)"
   ]
  },
  {
   "cell_type": "code",
   "execution_count": 20,
   "metadata": {},
   "outputs": [
    {
     "data": {
      "text/plain": [
       "<matplotlib.collections.PathCollection at 0x1a18d4f9e8>"
      ]
     },
     "execution_count": 20,
     "metadata": {},
     "output_type": "execute_result"
    },
    {
     "data": {
      "image/png": "[encoded data removed]",
      "text/plain": [
       "<Figure size 432x288 with 1 Axes>"
      ]
     },
     "metadata": {
      "needs_background": "light"
     },
     "output_type": "display_data"
    }
   ],
   "source": [
    "plt.scatter(county_data['YEAR'], county_data['FAVAL'], c = 'RED')"
   ]
  },
  {
   "cell_type": "code",
   "execution_count": 21,
   "metadata": {},
   "outputs": [
    {
     "data": {
      "text/plain": [
       "0"
      ]
     },
     "execution_count": 21,
     "metadata": {},
     "output_type": "execute_result"
    }
   ],
   "source": [
    "x_train = x[:39335] # Creating x variable train set of first 80%\n",
    "#x_train = np.nan_to_num(x_train) # removing nan \n",
    "np.isnan(x_train).sum() # checking if there are any nan"
   ]
  },
  {
   "cell_type": "code",
   "execution_count": 22,
   "metadata": {},
   "outputs": [
    {
     "data": {
      "text/plain": [
       "(39335, 1)"
      ]
     },
     "execution_count": 22,
     "metadata": {},
     "output_type": "execute_result"
    }
   ],
   "source": [
    "np.shape(x_train)"
   ]
  },
  {
   "cell_type": "code",
   "execution_count": 23,
   "metadata": {},
   "outputs": [
    {
     "data": {
      "text/plain": [
       "0"
      ]
     },
     "execution_count": 23,
     "metadata": {},
     "output_type": "execute_result"
    }
   ],
   "source": [
    "x_test = x[39335:] # creating x variable test set for last 20%\n",
    "#x_test = np.nan_to_num(x_test) # removing nan\n",
    "np.isnan(x_test).sum() # checking if there are nan"
   ]
  },
  {
   "cell_type": "code",
   "execution_count": 24,
   "metadata": {},
   "outputs": [
    {
     "data": {
      "text/plain": [
       "(9833, 1)"
      ]
     },
     "execution_count": 24,
     "metadata": {},
     "output_type": "execute_result"
    }
   ],
   "source": [
    "np.shape(x_test)"
   ]
  },
  {
   "cell_type": "code",
   "execution_count": 25,
   "metadata": {},
   "outputs": [
    {
     "data": {
      "text/plain": [
       "0"
      ]
     },
     "execution_count": 25,
     "metadata": {},
     "output_type": "execute_result"
    }
   ],
   "source": [
    "y_train = y[:39335] # creating y variable to train on first 80%\n",
    "y_train = np.nan_to_num(y_train)\n",
    "np.isnan(y_train).sum()"
   ]
  },
  {
   "cell_type": "code",
   "execution_count": 26,
   "metadata": {},
   "outputs": [
    {
     "data": {
      "text/plain": [
       "(39335, 1)"
      ]
     },
     "execution_count": 26,
     "metadata": {},
     "output_type": "execute_result"
    }
   ],
   "source": [
    "np.shape(y_train)"
   ]
  },
  {
   "cell_type": "code",
   "execution_count": 27,
   "metadata": {},
   "outputs": [
    {
     "data": {
      "text/plain": [
       "0"
      ]
     },
     "execution_count": 27,
     "metadata": {},
     "output_type": "execute_result"
    }
   ],
   "source": [
    "y_test = y[39335:]\n",
    "y_test = np.nan_to_num(y_test)\n",
    "np.isnan(y_test).sum()"
   ]
  },
  {
   "cell_type": "code",
   "execution_count": 28,
   "metadata": {},
   "outputs": [
    {
     "data": {
      "text/plain": [
       "(9833, 1)"
      ]
     },
     "execution_count": 28,
     "metadata": {},
     "output_type": "execute_result"
    }
   ],
   "source": [
    "np.shape(y_test)"
   ]
  },
  {
   "cell_type": "code",
   "execution_count": 29,
   "metadata": {},
   "outputs": [],
   "source": [
    "regression = linear_model.LinearRegression()\n",
    "regression.fit(x_train, y_train)\n",
    "prediction = regression.predict(x_test)\n",
    "predict_point = regression.predict([[1980]])"
   ]
  },
  {
   "cell_type": "code",
   "execution_count": 30,
   "metadata": {},
   "outputs": [
    {
     "name": "stdout",
     "output_type": "stream",
     "text": [
      "[[ 151.72657784]]\n"
     ]
    }
   ],
   "source": [
    "print(predict_point)"
   ]
  },
  {
   "cell_type": "code",
   "execution_count": 32,
   "metadata": {},
   "outputs": [],
   "source": [
    "predict_point_current = regression.predict([[2019]])"
   ]
  },
  {
   "cell_type": "code",
   "execution_count": 33,
   "metadata": {},
   "outputs": [
    {
     "name": "stdout",
     "output_type": "stream",
     "text": [
      "[[ 202.91772885]]\n"
     ]
    }
   ],
   "source": [
    "print(predict_point_current)"
   ]
  },
  {
   "cell_type": "code",
   "execution_count": 34,
   "metadata": {},
   "outputs": [
    {
     "data": {
      "image/png": "[encoded data removed]",
      "text/plain": [
       "<Figure size 432x288 with 1 Axes>"
      ]
     },
     "metadata": {},
     "output_type": "display_data"
    }
   ],
   "source": [
    "plt.scatter(x_test, y_test, color = 'BLACK')\n",
    "plt.title('Test Data Counties')\n",
    "plt.xlabel('Year')\n",
    "plt.ylabel('FAVAL')\n",
    "plt.xticks(())\n",
    "plt.yticks(())\n",
    "plt.plot(x_test, prediction, color = 'RED', linewidth = 3)\n",
    "plt.scatter(1980,predict_point, color = 'BLUE')\n",
    "plt.scatter(2019, predict_point_current, color = 'GREEN')\n",
    "plt.show()"
   ]
  },
  {
   "cell_type": "code",
   "execution_count": 35,
   "metadata": {},
   "outputs": [],
   "source": [
    "CPI_Data = pd.read_csv('RawData/AnnualCPI_1800_2017.csv')\n",
    "CPI_Data.columns = ['YEAR','Annual Average']\n"
   ]
  },
  {
   "cell_type": "code",
   "execution_count": null,
   "metadata": {},
   "outputs": [],
   "source": []
  }
 ],
 "metadata": {
  "kernelspec": {
   "display_name": "Python 3",
   "language": "python",
   "name": "python3"
  },
  "language_info": {
   "codemirror_mode": {
    "name": "ipython",
    "version": 3
   },
   "file_extension": ".py",
   "mimetype": "text/x-python",
   "name": "python",
   "nbconvert_exporter": "python",
   "pygments_lexer": "ipython3",
   "version": "3.6.8"
  }
 },
 "nbformat": 4,
 "nbformat_minor": 2
}
